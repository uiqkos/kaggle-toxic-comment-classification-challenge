{
 "cells": [
  {
   "cell_type": "code",
   "execution_count": 1,
   "metadata": {
    "collapsed": true
   },
   "outputs": [],
   "source": [
    "import pandas as pd"
   ]
  },
  {
   "cell_type": "code",
   "execution_count": 13,
   "outputs": [],
   "source": [
    "test = pd.read_csv('../data/test.csv', header=0, index_col='id')"
   ],
   "metadata": {
    "collapsed": false,
    "pycharm": {
     "name": "#%%\n"
    }
   }
  },
  {
   "cell_type": "code",
   "execution_count": 14,
   "outputs": [
    {
     "data": {
      "text/plain": "                                                       comment_text\nid                                                                 \n00001cee341fdb12  Yo bitch Ja Rule is more succesful then you'll...\n0000247867823ef7  == From RfC == \\n\\n The title is fine as it is...\n00013b17ad220c46  \" \\n\\n == Sources == \\n\\n * Zawe Ashton on Lap...\n00017563c3f7919a  :If you have a look back at the source, the in...\n00017695ad8997eb          I don't anonymously edit articles at all.",
      "text/html": "<div>\n<style scoped>\n    .dataframe tbody tr th:only-of-type {\n        vertical-align: middle;\n    }\n\n    .dataframe tbody tr th {\n        vertical-align: top;\n    }\n\n    .dataframe thead th {\n        text-align: right;\n    }\n</style>\n<table border=\"1\" class=\"dataframe\">\n  <thead>\n    <tr style=\"text-align: right;\">\n      <th></th>\n      <th>comment_text</th>\n    </tr>\n    <tr>\n      <th>id</th>\n      <th></th>\n    </tr>\n  </thead>\n  <tbody>\n    <tr>\n      <th>00001cee341fdb12</th>\n      <td>Yo bitch Ja Rule is more succesful then you'll...</td>\n    </tr>\n    <tr>\n      <th>0000247867823ef7</th>\n      <td>== From RfC == \\n\\n The title is fine as it is...</td>\n    </tr>\n    <tr>\n      <th>00013b17ad220c46</th>\n      <td>\" \\n\\n == Sources == \\n\\n * Zawe Ashton on Lap...</td>\n    </tr>\n    <tr>\n      <th>00017563c3f7919a</th>\n      <td>:If you have a look back at the source, the in...</td>\n    </tr>\n    <tr>\n      <th>00017695ad8997eb</th>\n      <td>I don't anonymously edit articles at all.</td>\n    </tr>\n  </tbody>\n</table>\n</div>"
     },
     "execution_count": 14,
     "metadata": {},
     "output_type": "execute_result"
    }
   ],
   "source": [
    "test.head(5)"
   ],
   "metadata": {
    "collapsed": false,
    "pycharm": {
     "name": "#%%\n"
    }
   }
  },
  {
   "cell_type": "code",
   "execution_count": 15,
   "outputs": [
    {
     "name": "stdout",
     "output_type": "stream",
     "text": [
      "Yo bitch Ja Rule is more succesful then you'll ever be whats up with you and hating you sad mofuckas...i should bitch slap ur pethedic white faces and get you to kiss my ass you guys sicken me. Ja rule is about pride in da music man. dont diss that shit on him. and nothin is wrong bein like tupac he was a brother too...fuckin white boys get things right next time.,\n"
     ]
    }
   ],
   "source": [
    "print(test.iloc[0].comment_text)"
   ],
   "metadata": {
    "collapsed": false,
    "pycharm": {
     "name": "#%%\n"
    }
   }
  },
  {
   "cell_type": "code",
   "execution_count": 16,
   "outputs": [],
   "source": [
    "train = pd.read_csv('../data/train.csv', header=0, index_col='id')"
   ],
   "metadata": {
    "collapsed": false,
    "pycharm": {
     "name": "#%%\n"
    }
   }
  },
  {
   "cell_type": "code",
   "execution_count": 18,
   "outputs": [
    {
     "data": {
      "text/plain": "                                                       comment_text  toxic  \\\nid                                                                           \n0000997932d777bf  Explanation\\nWhy the edits made under my usern...      0   \n000103f0d9cfb60f  D'aww! He matches this background colour I'm s...      0   \n000113f07ec002fd  Hey man, I'm really not trying to edit war. It...      0   \n0001b41b1c6bb37e  \"\\nMore\\nI can't make any real suggestions on ...      0   \n0001d958c54c6e35  You, sir, are my hero. Any chance you remember...      0   \n00025465d4725e87  \"\\n\\nCongratulations from me as well, use the ...      0   \n0002bcb3da6cb337       COCKSUCKER BEFORE YOU PISS AROUND ON MY WORK      1   \n00031b1e95af7921  Your vandalism to the Matt Shirvington article...      0   \n00037261f536c51d  Sorry if the word 'nonsense' was offensive to ...      0   \n00040093b2687caa  alignment on this subject and which are contra...      0   \n0005300084f90edc  \"\\nFair use rationale for Image:Wonju.jpg\\n\\nT...      0   \n00054a5e18b50dd4  bbq \\n\\nbe a man and lets discuss it-maybe ove...      0   \n0005c987bdfc9d4b  Hey... what is it..\\n@ | talk .\\nWhat is it......      1   \n0006f16e4e9f292e  Before you start throwing accusations and warn...      0   \n00070ef96486d6f9  Oh, and the girl above started her arguments w...      0   \n00078f8ce7eb276d  \"\\n\\nJuelz Santanas Age\\n\\nIn 2002, Juelz Sant...      0   \n0007e25b2121310b  Bye! \\n\\nDon't look, come or think of comming ...      1   \n000897889268bc93   REDIRECT Talk:Voydan Pop Georgiev- Chernodrinski      0   \n0009801bd85e5806  The Mitsurugi point made no sense - why not ar...      0   \n0009eaea3325de8c  Don't mean to bother you \\n\\nI see that you're...      0   \n000b08c464718505  \"\\n\\n Regarding your recent edits \\n\\nOnce aga...      0   \n000bfd0867774845  \"\\nGood to know. About me, yeah, I'm studying ...      0   \n000c0dfd995809fa  \"\\n\\n Snowflakes are NOT always symmetrical! \\...      0   \n000c6a3f0cd3ba8e  \"\\n\\n The Signpost: 24 September 2012 \\n\\n Rea...      0   \n000cfee90f50d471  \"\\n\\nRe-considering 1st paragraph edit?\\nI don...      0   \n000eefc67a2c930f  Radial symmetry \\n\\nSeveral now extinct lineag...      0   \n000f35deef84dc4a  There's no need to apologize. A Wikipedia arti...      0   \n000ffab30195c5e1  Yes, because the mother of the child in the ca...      0   \n0010307a3a50a353  \"\\nOk. But it will take a bit of work but I ca...      0   \n0010833a96e1f886  \"== A barnstar for you! ==\\n\\n  The Real Life ...      0   \n0011cc71398479c4  How could I post before the block expires?  Th...      0   \n00128363e367d703  Not sure about a heading of 'Fight for Freedom...      0   \n001325b8b20ea8aa  Praise \\n\\nlooked at this article about 6 mont...      0   \n001363e1dbe91225  I was able to post the above list so quickly b...      0   \n0013a8b1a5f26bcb  \"\\nWell, not \"\"before the process\"\" but \"\"befo...      0   \n\n                  severe_toxic  obscene  threat  insult  identity_hate  \nid                                                                      \n0000997932d777bf             0        0       0       0              0  \n000103f0d9cfb60f             0        0       0       0              0  \n000113f07ec002fd             0        0       0       0              0  \n0001b41b1c6bb37e             0        0       0       0              0  \n0001d958c54c6e35             0        0       0       0              0  \n00025465d4725e87             0        0       0       0              0  \n0002bcb3da6cb337             1        1       0       1              0  \n00031b1e95af7921             0        0       0       0              0  \n00037261f536c51d             0        0       0       0              0  \n00040093b2687caa             0        0       0       0              0  \n0005300084f90edc             0        0       0       0              0  \n00054a5e18b50dd4             0        0       0       0              0  \n0005c987bdfc9d4b             0        0       0       0              0  \n0006f16e4e9f292e             0        0       0       0              0  \n00070ef96486d6f9             0        0       0       0              0  \n00078f8ce7eb276d             0        0       0       0              0  \n0007e25b2121310b             0        0       0       0              0  \n000897889268bc93             0        0       0       0              0  \n0009801bd85e5806             0        0       0       0              0  \n0009eaea3325de8c             0        0       0       0              0  \n000b08c464718505             0        0       0       0              0  \n000bfd0867774845             0        0       0       0              0  \n000c0dfd995809fa             0        0       0       0              0  \n000c6a3f0cd3ba8e             0        0       0       0              0  \n000cfee90f50d471             0        0       0       0              0  \n000eefc67a2c930f             0        0       0       0              0  \n000f35deef84dc4a             0        0       0       0              0  \n000ffab30195c5e1             0        0       0       0              0  \n0010307a3a50a353             0        0       0       0              0  \n0010833a96e1f886             0        0       0       0              0  \n0011cc71398479c4             0        0       0       0              0  \n00128363e367d703             0        0       0       0              0  \n001325b8b20ea8aa             0        0       0       0              0  \n001363e1dbe91225             0        0       0       0              0  \n0013a8b1a5f26bcb             0        0       0       0              0  ",
      "text/html": "<div>\n<style scoped>\n    .dataframe tbody tr th:only-of-type {\n        vertical-align: middle;\n    }\n\n    .dataframe tbody tr th {\n        vertical-align: top;\n    }\n\n    .dataframe thead th {\n        text-align: right;\n    }\n</style>\n<table border=\"1\" class=\"dataframe\">\n  <thead>\n    <tr style=\"text-align: right;\">\n      <th></th>\n      <th>comment_text</th>\n      <th>toxic</th>\n      <th>severe_toxic</th>\n      <th>obscene</th>\n      <th>threat</th>\n      <th>insult</th>\n      <th>identity_hate</th>\n    </tr>\n    <tr>\n      <th>id</th>\n      <th></th>\n      <th></th>\n      <th></th>\n      <th></th>\n      <th></th>\n      <th></th>\n      <th></th>\n    </tr>\n  </thead>\n  <tbody>\n    <tr>\n      <th>0000997932d777bf</th>\n      <td>Explanation\\nWhy the edits made under my usern...</td>\n      <td>0</td>\n      <td>0</td>\n      <td>0</td>\n      <td>0</td>\n      <td>0</td>\n      <td>0</td>\n    </tr>\n    <tr>\n      <th>000103f0d9cfb60f</th>\n      <td>D'aww! He matches this background colour I'm s...</td>\n      <td>0</td>\n      <td>0</td>\n      <td>0</td>\n      <td>0</td>\n      <td>0</td>\n      <td>0</td>\n    </tr>\n    <tr>\n      <th>000113f07ec002fd</th>\n      <td>Hey man, I'm really not trying to edit war. It...</td>\n      <td>0</td>\n      <td>0</td>\n      <td>0</td>\n      <td>0</td>\n      <td>0</td>\n      <td>0</td>\n    </tr>\n    <tr>\n      <th>0001b41b1c6bb37e</th>\n      <td>\"\\nMore\\nI can't make any real suggestions on ...</td>\n      <td>0</td>\n      <td>0</td>\n      <td>0</td>\n      <td>0</td>\n      <td>0</td>\n      <td>0</td>\n    </tr>\n    <tr>\n      <th>0001d958c54c6e35</th>\n      <td>You, sir, are my hero. Any chance you remember...</td>\n      <td>0</td>\n      <td>0</td>\n      <td>0</td>\n      <td>0</td>\n      <td>0</td>\n      <td>0</td>\n    </tr>\n    <tr>\n      <th>00025465d4725e87</th>\n      <td>\"\\n\\nCongratulations from me as well, use the ...</td>\n      <td>0</td>\n      <td>0</td>\n      <td>0</td>\n      <td>0</td>\n      <td>0</td>\n      <td>0</td>\n    </tr>\n    <tr>\n      <th>0002bcb3da6cb337</th>\n      <td>COCKSUCKER BEFORE YOU PISS AROUND ON MY WORK</td>\n      <td>1</td>\n      <td>1</td>\n      <td>1</td>\n      <td>0</td>\n      <td>1</td>\n      <td>0</td>\n    </tr>\n    <tr>\n      <th>00031b1e95af7921</th>\n      <td>Your vandalism to the Matt Shirvington article...</td>\n      <td>0</td>\n      <td>0</td>\n      <td>0</td>\n      <td>0</td>\n      <td>0</td>\n      <td>0</td>\n    </tr>\n    <tr>\n      <th>00037261f536c51d</th>\n      <td>Sorry if the word 'nonsense' was offensive to ...</td>\n      <td>0</td>\n      <td>0</td>\n      <td>0</td>\n      <td>0</td>\n      <td>0</td>\n      <td>0</td>\n    </tr>\n    <tr>\n      <th>00040093b2687caa</th>\n      <td>alignment on this subject and which are contra...</td>\n      <td>0</td>\n      <td>0</td>\n      <td>0</td>\n      <td>0</td>\n      <td>0</td>\n      <td>0</td>\n    </tr>\n    <tr>\n      <th>0005300084f90edc</th>\n      <td>\"\\nFair use rationale for Image:Wonju.jpg\\n\\nT...</td>\n      <td>0</td>\n      <td>0</td>\n      <td>0</td>\n      <td>0</td>\n      <td>0</td>\n      <td>0</td>\n    </tr>\n    <tr>\n      <th>00054a5e18b50dd4</th>\n      <td>bbq \\n\\nbe a man and lets discuss it-maybe ove...</td>\n      <td>0</td>\n      <td>0</td>\n      <td>0</td>\n      <td>0</td>\n      <td>0</td>\n      <td>0</td>\n    </tr>\n    <tr>\n      <th>0005c987bdfc9d4b</th>\n      <td>Hey... what is it..\\n@ | talk .\\nWhat is it......</td>\n      <td>1</td>\n      <td>0</td>\n      <td>0</td>\n      <td>0</td>\n      <td>0</td>\n      <td>0</td>\n    </tr>\n    <tr>\n      <th>0006f16e4e9f292e</th>\n      <td>Before you start throwing accusations and warn...</td>\n      <td>0</td>\n      <td>0</td>\n      <td>0</td>\n      <td>0</td>\n      <td>0</td>\n      <td>0</td>\n    </tr>\n    <tr>\n      <th>00070ef96486d6f9</th>\n      <td>Oh, and the girl above started her arguments w...</td>\n      <td>0</td>\n      <td>0</td>\n      <td>0</td>\n      <td>0</td>\n      <td>0</td>\n      <td>0</td>\n    </tr>\n    <tr>\n      <th>00078f8ce7eb276d</th>\n      <td>\"\\n\\nJuelz Santanas Age\\n\\nIn 2002, Juelz Sant...</td>\n      <td>0</td>\n      <td>0</td>\n      <td>0</td>\n      <td>0</td>\n      <td>0</td>\n      <td>0</td>\n    </tr>\n    <tr>\n      <th>0007e25b2121310b</th>\n      <td>Bye! \\n\\nDon't look, come or think of comming ...</td>\n      <td>1</td>\n      <td>0</td>\n      <td>0</td>\n      <td>0</td>\n      <td>0</td>\n      <td>0</td>\n    </tr>\n    <tr>\n      <th>000897889268bc93</th>\n      <td>REDIRECT Talk:Voydan Pop Georgiev- Chernodrinski</td>\n      <td>0</td>\n      <td>0</td>\n      <td>0</td>\n      <td>0</td>\n      <td>0</td>\n      <td>0</td>\n    </tr>\n    <tr>\n      <th>0009801bd85e5806</th>\n      <td>The Mitsurugi point made no sense - why not ar...</td>\n      <td>0</td>\n      <td>0</td>\n      <td>0</td>\n      <td>0</td>\n      <td>0</td>\n      <td>0</td>\n    </tr>\n    <tr>\n      <th>0009eaea3325de8c</th>\n      <td>Don't mean to bother you \\n\\nI see that you're...</td>\n      <td>0</td>\n      <td>0</td>\n      <td>0</td>\n      <td>0</td>\n      <td>0</td>\n      <td>0</td>\n    </tr>\n    <tr>\n      <th>000b08c464718505</th>\n      <td>\"\\n\\n Regarding your recent edits \\n\\nOnce aga...</td>\n      <td>0</td>\n      <td>0</td>\n      <td>0</td>\n      <td>0</td>\n      <td>0</td>\n      <td>0</td>\n    </tr>\n    <tr>\n      <th>000bfd0867774845</th>\n      <td>\"\\nGood to know. About me, yeah, I'm studying ...</td>\n      <td>0</td>\n      <td>0</td>\n      <td>0</td>\n      <td>0</td>\n      <td>0</td>\n      <td>0</td>\n    </tr>\n    <tr>\n      <th>000c0dfd995809fa</th>\n      <td>\"\\n\\n Snowflakes are NOT always symmetrical! \\...</td>\n      <td>0</td>\n      <td>0</td>\n      <td>0</td>\n      <td>0</td>\n      <td>0</td>\n      <td>0</td>\n    </tr>\n    <tr>\n      <th>000c6a3f0cd3ba8e</th>\n      <td>\"\\n\\n The Signpost: 24 September 2012 \\n\\n Rea...</td>\n      <td>0</td>\n      <td>0</td>\n      <td>0</td>\n      <td>0</td>\n      <td>0</td>\n      <td>0</td>\n    </tr>\n    <tr>\n      <th>000cfee90f50d471</th>\n      <td>\"\\n\\nRe-considering 1st paragraph edit?\\nI don...</td>\n      <td>0</td>\n      <td>0</td>\n      <td>0</td>\n      <td>0</td>\n      <td>0</td>\n      <td>0</td>\n    </tr>\n    <tr>\n      <th>000eefc67a2c930f</th>\n      <td>Radial symmetry \\n\\nSeveral now extinct lineag...</td>\n      <td>0</td>\n      <td>0</td>\n      <td>0</td>\n      <td>0</td>\n      <td>0</td>\n      <td>0</td>\n    </tr>\n    <tr>\n      <th>000f35deef84dc4a</th>\n      <td>There's no need to apologize. A Wikipedia arti...</td>\n      <td>0</td>\n      <td>0</td>\n      <td>0</td>\n      <td>0</td>\n      <td>0</td>\n      <td>0</td>\n    </tr>\n    <tr>\n      <th>000ffab30195c5e1</th>\n      <td>Yes, because the mother of the child in the ca...</td>\n      <td>0</td>\n      <td>0</td>\n      <td>0</td>\n      <td>0</td>\n      <td>0</td>\n      <td>0</td>\n    </tr>\n    <tr>\n      <th>0010307a3a50a353</th>\n      <td>\"\\nOk. But it will take a bit of work but I ca...</td>\n      <td>0</td>\n      <td>0</td>\n      <td>0</td>\n      <td>0</td>\n      <td>0</td>\n      <td>0</td>\n    </tr>\n    <tr>\n      <th>0010833a96e1f886</th>\n      <td>\"== A barnstar for you! ==\\n\\n  The Real Life ...</td>\n      <td>0</td>\n      <td>0</td>\n      <td>0</td>\n      <td>0</td>\n      <td>0</td>\n      <td>0</td>\n    </tr>\n    <tr>\n      <th>0011cc71398479c4</th>\n      <td>How could I post before the block expires?  Th...</td>\n      <td>0</td>\n      <td>0</td>\n      <td>0</td>\n      <td>0</td>\n      <td>0</td>\n      <td>0</td>\n    </tr>\n    <tr>\n      <th>00128363e367d703</th>\n      <td>Not sure about a heading of 'Fight for Freedom...</td>\n      <td>0</td>\n      <td>0</td>\n      <td>0</td>\n      <td>0</td>\n      <td>0</td>\n      <td>0</td>\n    </tr>\n    <tr>\n      <th>001325b8b20ea8aa</th>\n      <td>Praise \\n\\nlooked at this article about 6 mont...</td>\n      <td>0</td>\n      <td>0</td>\n      <td>0</td>\n      <td>0</td>\n      <td>0</td>\n      <td>0</td>\n    </tr>\n    <tr>\n      <th>001363e1dbe91225</th>\n      <td>I was able to post the above list so quickly b...</td>\n      <td>0</td>\n      <td>0</td>\n      <td>0</td>\n      <td>0</td>\n      <td>0</td>\n      <td>0</td>\n    </tr>\n    <tr>\n      <th>0013a8b1a5f26bcb</th>\n      <td>\"\\nWell, not \"\"before the process\"\" but \"\"befo...</td>\n      <td>0</td>\n      <td>0</td>\n      <td>0</td>\n      <td>0</td>\n      <td>0</td>\n      <td>0</td>\n    </tr>\n  </tbody>\n</table>\n</div>"
     },
     "execution_count": 18,
     "metadata": {},
     "output_type": "execute_result"
    }
   ],
   "source": [
    "train.head(35)"
   ],
   "metadata": {
    "collapsed": false,
    "pycharm": {
     "name": "#%%\n"
    }
   }
  },
  {
   "cell_type": "code",
   "execution_count": null,
   "outputs": [],
   "source": [],
   "metadata": {
    "collapsed": false,
    "pycharm": {
     "name": "#%%\n"
    }
   }
  }
 ],
 "metadata": {
  "kernelspec": {
   "display_name": "Python 3",
   "language": "python",
   "name": "python3"
  },
  "language_info": {
   "codemirror_mode": {
    "name": "ipython",
    "version": 2
   },
   "file_extension": ".py",
   "mimetype": "text/x-python",
   "name": "python",
   "nbconvert_exporter": "python",
   "pygments_lexer": "ipython2",
   "version": "2.7.6"
  }
 },
 "nbformat": 4,
 "nbformat_minor": 0
}